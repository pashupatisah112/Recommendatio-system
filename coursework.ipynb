{
 "cells": [
  {
   "cell_type": "code",
   "execution_count": 1,
   "metadata": {},
   "outputs": [],
   "source": [
    "#Importing classes and libraries \n",
    "import pandas as pd\n",
    "from sklearn.feature_extraction.text import TfidfVectorizer\n",
    "from sklearn.metrics.pairwise import linear_kernel \n",
    "\n",
    "#loading dataset using pandas\n",
    "data = pd.read_csv(\"data.csv\")"
   ]
  },
  {
   "cell_type": "code",
   "execution_count": 2,
   "metadata": {},
   "outputs": [],
   "source": [
    "#Creating a TF-IDF vectorizer \n",
    "tfidf = TfidfVectorizer(analyzer='word', ngram_range=(1, 3), min_df=0, stop_words='english')\n",
    "\n",
    "#Passing product description to vectorizer to transform to item vector\n",
    "tfidf_matrix = tfidf.fit_transform(data['description'])"
   ]
  },
  {
   "cell_type": "code",
   "execution_count": 3,
   "metadata": {},
   "outputs": [],
   "source": [
    "#Finding similarities in product using linear_kernal() by passing item vector\n",
    "cosine_similarities = linear_kernel(tfidf_matrix, tfidf_matrix) \n",
    "output = {}\n",
    "#iterating through pandas row i.e. data\n",
    "for idx, row in data.iterrows():\n",
    "   #Sorts the similar indices along x-axis\n",
    "   similar_indices = cosine_similarities[idx].argsort()[:-100:-1] \n",
    "    \n",
    "   #Finds the similar products according to similar indices \n",
    "   similar_products = [(cosine_similarities[idx][i], data['id'][i]) for i in similar_indices] \n",
    "    \n",
    "   #Putting the product id as key and a list of similar product as value into a dictionary\n",
    "   output[row['id']] = similar_products[1:]\n"
   ]
  },
  {
   "cell_type": "code",
   "execution_count": 4,
   "metadata": {},
   "outputs": [],
   "source": [
    "#Function that gives name of products according to product id\n",
    "def product(id):    \n",
    "    return data.loc[data['id'] == id]['description'].tolist()[0].split(' - ')[0] \n",
    "\n",
    "#Function to give the results from the output dictionary \n",
    "def recommend(product_id, num):\n",
    "    print(\"Recommending \" + str(num) + \" products similar to \" + product(product_id) + \"...\")   \n",
    "    print(\"-------------------------------------------\")    \n",
    "    recs = output[product_id][:num]   \n",
    "    for rec in recs: \n",
    "       print(\"Recommended: \" + product(rec[1]) + \" (score:\" +      str(rec[0]) + \")\")\n"
   ]
  },
  {
   "cell_type": "code",
   "execution_count": 5,
   "metadata": {},
   "outputs": [
    {
     "name": "stdout",
     "output_type": "stream",
     "text": [
      "Recommending 5 products similar to Baby sun bucket hat...\n",
      "-------------------------------------------\n",
      "Recommended: Trim brim hat (score:0.3024706023342052)\n",
      "Recommended: Baby baggies shorts (score:0.2166252228693148)\n",
      "Recommended: Girl's baggies shorts (score:0.1906744833291914)\n",
      "Recommended: Baggies shorts (score:0.16751651074227375)\n",
      "Recommended: Baby baggies apron dress (score:0.15300846326119225)\n"
     ]
    }
   ],
   "source": [
    "recommend(product_id=10, num=5)"
   ]
  },
  {
   "cell_type": "code",
   "execution_count": null,
   "metadata": {},
   "outputs": [],
   "source": []
  },
  {
   "cell_type": "code",
   "execution_count": null,
   "metadata": {},
   "outputs": [],
   "source": []
  }
 ],
 "metadata": {
  "kernelspec": {
   "display_name": "Python 3",
   "language": "python",
   "name": "python3"
  },
  "language_info": {
   "codemirror_mode": {
    "name": "ipython",
    "version": 3
   },
   "file_extension": ".py",
   "mimetype": "text/x-python",
   "name": "python",
   "nbconvert_exporter": "python",
   "pygments_lexer": "ipython3",
   "version": "3.7.4"
  }
 },
 "nbformat": 4,
 "nbformat_minor": 2
}
